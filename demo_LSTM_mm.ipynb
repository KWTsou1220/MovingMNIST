{
 "cells": [
  {
   "cell_type": "code",
   "execution_count": 1,
   "metadata": {
    "collapsed": false,
    "deletable": true,
    "editable": true
   },
   "outputs": [],
   "source": [
    "import os\n",
    "import tensorflow        as tf\n",
    "import numpy             as np\n",
    "import matplotlib.pyplot as plt\n",
    "import math\n",
    "import random\n",
    "import time\n",
    "import json\n",
    "from data_process        import *\n",
    "from model               import *\n",
    "\n",
    "BATCH_SIZE     = 100\n",
    "TIME_STEP      = 20\n",
    "LR             = 0.001\n",
    "EPOCH_UP       = 50\n",
    "EPOCH_LOW      = 30\n",
    "INPUT_HEIGHT   = 16\n",
    "INPUT_WIDTH    = 16\n",
    "INPUT_CH       = 16\n",
    "OUTPUT_HEIGHT  = INPUT_HEIGHT\n",
    "OUTPUT_WIDTH   = INPUT_WIDTH\n",
    "OUTPUT_CH      = INPUT_CH\n",
    "Mem_size       = 16\n",
    "ENCODER_ARCH   = {'l0':{'type':'input', 'neurons':INPUT_HEIGHT*INPUT_WIDTH*INPUT_CH, \n",
    "                        'shape':[BATCH_SIZE, INPUT_HEIGHT, INPUT_WIDTH, INPUT_CH]},\n",
    "                  'l1':{'type':'convLSTM', 'filter':[5, 5, INPUT_CH, 128], 'stride':[1, 1, 1, 1], \n",
    "                        'shape':[BATCH_SIZE, INPUT_HEIGHT, INPUT_WIDTH, 128]}}\n",
    "DECODER_ARCH   = {'l0':{'type':'input', 'shape':[BATCH_SIZE, INPUT_HEIGHT, INPUT_WIDTH, INPUT_CH]},\n",
    "                  'l1':{'type':'convLSTM', 'filter':[5, 5, INPUT_CH, 128], 'stride':[1, 1, 1, 1], \n",
    "                        'shape':[BATCH_SIZE, INPUT_HEIGHT, INPUT_WIDTH, 128]},\n",
    "                  'l2':{'type':'output', 'neurons':OUTPUT_HEIGHT*OUTPUT_WIDTH*OUTPUT_CH, \n",
    "                        'filter':[5, 5, 128, INPUT_CH], 'stride':[1, 1, 1, 1], \n",
    "                        'shape':[BATCH_SIZE, OUTPUT_HEIGHT, OUTPUT_WIDTH, OUTPUT_CH]}}"
   ]
  },
  {
   "cell_type": "code",
   "execution_count": 2,
   "metadata": {
    "collapsed": false,
    "deletable": true,
    "editable": true
   },
   "outputs": [],
   "source": [
    "model = MovingMNISTModel(encode_arch=ENCODER_ARCH, decode_arch=DECODER_ARCH, input_height=INPUT_HEIGHT, input_width=INPUT_WIDTH, \n",
    "                         input_ch=INPUT_CH, output_height=OUTPUT_HEIGHT, output_width=OUTPUT_WIDTH, output_ch=OUTPUT_CH, \n",
    "                         batch_size=BATCH_SIZE, LR=LR)\n",
    "init  = tf.global_variables_initializer()\n",
    "sess  = tf.Session()\n",
    "sess.run(init)"
   ]
  },
  {
   "cell_type": "code",
   "execution_count": 3,
   "metadata": {
    "collapsed": false,
    "deletable": true,
    "editable": true
   },
   "outputs": [
    {
     "name": "stdout",
     "output_type": "stream",
     "text": [
      "Get data done!\n"
     ]
    }
   ],
   "source": [
    "# train, valid, test: [20, DATA_SIZE, 16, 16, 16]\n",
    "train, valid, test = get_data(\"./Dataset/train_20.npz\", \"./Dataset/valid_20.npz\", \"./Dataset/test_20.npz\")\n",
    "print \"Get data done!\""
   ]
  },
  {
   "cell_type": "code",
   "execution_count": 4,
   "metadata": {
    "collapsed": false,
    "deletable": true,
    "editable": true
   },
   "outputs": [
    {
     "name": "stdout",
     "output_type": "stream",
     "text": [
      "mini-batch: 0     mini-batch loss: 1105.83     time: 7.23638296127\n",
      "mini-batch: 1     mini-batch loss: 341.418     time: 6.39169597626\n",
      "mini-batch: 2     mini-batch loss: 183.183     time: 6.38484215736\n",
      "mini-batch: 3     mini-batch loss: 168.005     time: 6.39130401611\n",
      "mini-batch: 4     mini-batch loss: 165.625     time: 6.39032292366\n",
      "mini-batch: 5     mini-batch loss: 160.876     time: 6.41509890556\n",
      "mini-batch: 6     mini-batch loss: 157.73     time: 6.38886380196\n",
      "mini-batch: 7     mini-batch loss: 168.038     time: 6.38933706284\n",
      "mini-batch: 8     mini-batch loss: 171.309     time: 6.40274786949\n",
      "mini-batch: 9     mini-batch loss: 158.163     time: 6.39505290985\n",
      "mini-batch: 10     mini-batch loss: 176.103     time: 6.39512300491\n",
      "mini-batch: 11     mini-batch loss: 167.675     time: 6.39404797554\n",
      "mini-batch: 12     mini-batch loss: 167.057     time: 6.39110183716\n",
      "mini-batch: 13     mini-batch loss: 165.026     time: 6.39071202278\n",
      "mini-batch: 14     mini-batch loss: 170.525     time: 6.3927590847\n",
      "mini-batch: 15     mini-batch loss: 165.787     time: 6.3870780468\n",
      "mini-batch: 16     mini-batch loss: 170.68     time: 6.39629721642\n",
      "mini-batch: 17     mini-batch loss: 165.284     time: 6.38900494576\n",
      "mini-batch: 18     mini-batch loss: 168.048     time: 6.38962316513\n",
      "mini-batch: 19     mini-batch loss: 165.06     time: 6.39893507957\n",
      "mini-batch: 20     mini-batch loss: 166.893     time: 6.38804507256\n",
      "mini-batch: 21     mini-batch loss: 170.481     time: 6.39668011665\n",
      "mini-batch: 22     mini-batch loss: 164.717     time: 6.40212798119\n",
      "mini-batch: 23     mini-batch loss: 167.686     time: 6.39894509315\n",
      "mini-batch: 24     mini-batch loss: 163.731     time: 6.39829707146\n",
      "mini-batch: 25     mini-batch loss: 161.06     time: 6.39583206177\n",
      "mini-batch: 26     mini-batch loss: 168.966     time: 6.38597607613\n",
      "mini-batch: 27     mini-batch loss: 161.765     time: 6.39256286621\n",
      "mini-batch: 28     mini-batch loss: 175.218     time: 6.40331411362\n",
      "mini-batch: 29     mini-batch loss: 161.309     time: 6.39162397385\n",
      "mini-batch: 30     mini-batch loss: 164.556     time: 6.40737009048\n",
      "mini-batch: 31     mini-batch loss: 169.291     time: 6.41766309738\n",
      "mini-batch: 32     mini-batch loss: 167.167     time: 6.40313100815\n",
      "mini-batch: 33     mini-batch loss: 166.771     time: 6.39533805847\n",
      "mini-batch: 34     mini-batch loss: 165.736     time: 6.39281082153\n",
      "mini-batch: 35     mini-batch loss: 171.15     time: 6.41579318047\n",
      "mini-batch: 36     mini-batch loss: 162.597     time: 6.40064191818\n",
      "mini-batch: 37     mini-batch loss: 165.878     time: 6.41015481949\n",
      "mini-batch: 38     mini-batch loss: 158.748     time: 6.39124488831\n",
      "mini-batch: 39     mini-batch loss: 171.128     time: 6.39320707321\n",
      "mini-batch: 40     mini-batch loss: 164.512     time: 6.39911603928\n",
      "mini-batch: 41     mini-batch loss: 164.971     time: 6.39460992813\n",
      "mini-batch: 42     mini-batch loss: 168.564     time: 6.39351797104\n",
      "mini-batch: 43     mini-batch loss: 170.289     time: 6.40260791779\n",
      "mini-batch: 44     mini-batch loss: 166.862     time: 6.3868868351\n",
      "mini-batch: 45     mini-batch loss: 167.527     time: 6.3862798214\n",
      "mini-batch: 46     mini-batch loss: 166.962     time: 6.38498806953\n",
      "mini-batch: 47     mini-batch loss: 167.543     time: 6.40009689331\n",
      "mini-batch: 48     mini-batch loss: 163.98     time: 6.39340591431\n",
      "mini-batch: 49     mini-batch loss: 166.993     time: 6.39113998413\n",
      "mini-batch: 50     mini-batch loss: 170.589     time: 6.40498018265\n",
      "mini-batch: 51     mini-batch loss: 165.502     time: 6.40385603905\n",
      "mini-batch: 52     mini-batch loss: 166.114     time: 6.38885688782\n",
      "mini-batch: 53     mini-batch loss: 168.523     time: 6.38920998573\n",
      "mini-batch: 54     mini-batch loss: 168.141     time: 6.39063692093\n",
      "mini-batch: 55     mini-batch loss: 171.341     time: 6.38817310333\n",
      "mini-batch: 56     mini-batch loss: 166.712     time: 6.39089488983\n",
      "mini-batch: 57     mini-batch loss: 168.742     time: 6.39293694496\n",
      "mini-batch: 58     mini-batch loss: 166.44     time: 6.4023680687\n",
      "mini-batch: 59     mini-batch loss: 163.264     time: 6.38767719269\n",
      "mini-batch: 60     mini-batch loss: 173.748     time: 6.3975520134\n",
      "mini-batch: 61     mini-batch loss: 162.915     time: 6.3950650692\n",
      "mini-batch: 62     mini-batch loss: 156.715     time: 6.38768005371\n",
      "mini-batch: 63     mini-batch loss: 170.155     time: 6.39588594437\n",
      "mini-batch: 64     mini-batch loss: 167.548     time: 6.39181780815\n",
      "mini-batch: 65     mini-batch loss: 169.095     time: 6.39780282974\n",
      "mini-batch: 66     mini-batch loss: 163.258     time: 6.3926692009\n",
      "mini-batch: 67     mini-batch loss: 160.408     time: 6.40179395676\n",
      "mini-batch: 68     mini-batch loss: 172.676     time: 6.39424395561\n",
      "mini-batch: 69     mini-batch loss: 170.732     time: 6.39391112328\n",
      "mini-batch: 70     mini-batch loss: 165.803     time: 6.39960718155\n",
      "mini-batch: 71     mini-batch loss: 169.545     time: 6.39873385429\n",
      "mini-batch: 72     mini-batch loss: 168.006     time: 6.39102888107\n",
      "mini-batch: 73     mini-batch loss: 170.071     time: 6.38196086884\n",
      "mini-batch: 74     mini-batch loss: 164.324     time: 6.38995409012\n",
      "mini-batch: 75     mini-batch loss: 158.699     time: 6.40556406975\n",
      "mini-batch: 76     mini-batch loss: 177.737     time: 6.38974404335\n",
      "mini-batch: 77     mini-batch loss: 168.214     time: 6.39387202263\n",
      "mini-batch: 78     mini-batch loss: 167.091     time: 6.38724684715\n",
      "mini-batch: 79     mini-batch loss: 164.917     time: 6.40282702446\n",
      "mini-batch: 80     mini-batch loss: 166.632     time: 6.38114500046\n",
      "mini-batch: 81     mini-batch loss: 166.4     time: 6.38857603073\n",
      "mini-batch: 82     mini-batch loss: 165.639     time: 6.39658808708\n",
      "mini-batch: 83     mini-batch loss: 167.146     time: 6.38628697395\n",
      "mini-batch: 84     mini-batch loss: 157.907     time: 6.3878018856\n",
      "mini-batch: 85     mini-batch loss: 170.479     time: 6.3914949894\n",
      "mini-batch: 86     mini-batch loss: 162.604     time: 6.38590598106\n",
      "mini-batch: 87     mini-batch loss: 165.923     time: 6.38732099533\n",
      "mini-batch: 88     mini-batch loss: 167.545     time: 6.41655683517\n",
      "mini-batch: 89     mini-batch loss: 163.836     time: 6.3863658905\n",
      "mini-batch: 90     mini-batch loss: 165.202     time: 6.42105984688\n",
      "mini-batch: 91     mini-batch loss: 166.511     time: 6.40601491928\n",
      "mini-batch: 92     mini-batch loss: 165.858     time: 6.38693284988\n",
      "mini-batch: 93     mini-batch loss: 166.132     time: 6.38419818878\n",
      "mini-batch: 94     mini-batch loss: 165.289     time: 6.39007306099\n",
      "mini-batch: 95     mini-batch loss: 168.2     time: 6.40975785255\n",
      "mini-batch: 96     mini-batch loss: 164.848     time: 6.39357709885\n",
      "mini-batch: 97     mini-batch loss: 167.326     time: 6.4127869606\n",
      "mini-batch: 98     mini-batch loss: 156.802     time: 6.39802694321\n",
      "mini-batch: 99     mini-batch loss: 160.607     time: 6.40189504623\n",
      "Batch: 1     Valid loss: 164.939491272     time: 6.40189504623\n"
     ]
    }
   ],
   "source": [
    "LOSS_TRAIN = []\n",
    "LOSS_VALID = [np.inf]\n",
    "total_loss = 0\n",
    "ep_idx = 1\n",
    "#break_flag = False\n",
    "while True:\n",
    "    train = np.take(train, np.random.rand(train.shape[1]).argsort(), axis=1, out=train)\n",
    "    # training\n",
    "    for idx in xrange(10000/BATCH_SIZE):\n",
    "        start = time.time()\n",
    "        sequence = train[0:10, idx*BATCH_SIZE:(idx+1)*BATCH_SIZE, :, :, :]\n",
    "        predict  = train[10:20, idx*BATCH_SIZE:(idx+1)*BATCH_SIZE, :, :, :]\n",
    "        feed_dict = {model.x: sequence.reshape((-1, 16, 16, 16)), model.y: predict.reshape((-1, 16, 16, 16)), \n",
    "                     model.feed_previous:False}\n",
    "        _, loss = sess.run([model.train_op, model.loss], feed_dict)\n",
    "        LOSS_TRAIN.append(loss)\n",
    "        end = time.time()\n",
    "        # result\n",
    "        print \"mini-batch:\", idx, \"    mini-batch loss:\", LOSS_TRAIN[-1], \"    time:\", end-start\n",
    "    \n",
    "    #if break_flag == False:\n",
    "    #    ep_idx+=1\n",
    "    #else:\n",
    "    #    break\n",
    "\n",
    "    # validation\n",
    "    for idx in xrange(2000/BATCH_SIZE):\n",
    "        sequence = train[0:10, idx*BATCH_SIZE:(idx+1)*BATCH_SIZE, :, :]\n",
    "        predict  = train[10:20, idx*BATCH_SIZE:(idx+1)*BATCH_SIZE, :, :]\n",
    "        feed_dict = {model.x: sequence.reshape((-1, 16, 16, 16)), model.y: sequence.reshape((-1, 16, 16, 16))}\n",
    "        loss = sess.run(model.loss, feed_dict)\n",
    "        total_loss = total_loss + loss\n",
    "    # result\n",
    "    LOSS_VALID.append(total_loss/20)\n",
    "    print \"Batch:\", ep_idx, \"    Valid loss:\", LOSS_VALID[-1], \"    time:\", end-start\n",
    "    \n",
    "    if LOSS_VALID[-1] - total_loss < 0: #or ep_idx >= 3:\n",
    "        break\n",
    "    else:\n",
    "        total_loss = 0\n",
    "    "
   ]
  },
  {
   "cell_type": "code",
   "execution_count": 5,
   "metadata": {
    "collapsed": true,
    "deletable": true,
    "editable": true
   },
   "outputs": [],
   "source": [
    "saver = tf.train.Saver()\n",
    "save_path = saver.save(sess, \"./Models/ConvLSTM_layer\"+str(len(ENCODER_ARCH)-1)+\"_memSize\"+str(Mem_size)+\".ckpt\")"
   ]
  },
  {
   "cell_type": "code",
   "execution_count": 5,
   "metadata": {
    "collapsed": false,
    "deletable": true,
    "editable": true
   },
   "outputs": [
    {
     "data": {
      "image/png": "[encoded data removed]",
      "text/plain": [
       "<matplotlib.figure.Figure at 0x7f03195c4e90>"
      ]
     },
     "metadata": {},
     "output_type": "display_data"
    },
    {
     "name": "stdout",
     "output_type": "stream",
     "text": [
      "1105.83\n",
      "341.418\n",
      "183.183\n",
      "168.005\n",
      "165.625\n",
      "160.876\n",
      "157.73\n",
      "168.038\n",
      "171.309\n",
      "158.163\n",
      "176.103\n",
      "167.675\n",
      "167.057\n",
      "165.026\n",
      "170.525\n",
      "165.787\n",
      "170.68\n",
      "165.284\n",
      "168.048\n",
      "165.06\n",
      "166.893\n",
      "170.481\n",
      "164.717\n",
      "167.686\n",
      "163.731\n",
      "161.06\n",
      "168.966\n",
      "161.765\n",
      "175.218\n",
      "161.309\n",
      "164.556\n",
      "169.291\n",
      "167.167\n",
      "166.771\n",
      "165.736\n",
      "171.15\n",
      "162.597\n",
      "165.878\n",
      "158.748\n",
      "171.128\n",
      "164.512\n",
      "164.971\n",
      "168.564\n",
      "170.289\n",
      "166.862\n",
      "167.527\n",
      "166.962\n",
      "167.543\n",
      "163.98\n",
      "166.993\n",
      "170.589\n",
      "165.502\n",
      "166.114\n",
      "168.523\n",
      "168.141\n",
      "171.341\n",
      "166.712\n",
      "168.742\n",
      "166.44\n",
      "163.264\n",
      "173.748\n",
      "162.915\n",
      "156.715\n",
      "170.155\n",
      "167.548\n",
      "169.095\n",
      "163.258\n",
      "160.408\n",
      "172.676\n",
      "170.732\n",
      "165.803\n",
      "169.545\n",
      "168.006\n",
      "170.071\n",
      "164.324\n",
      "158.699\n",
      "177.737\n",
      "168.214\n",
      "167.091\n",
      "164.917\n",
      "166.632\n",
      "166.4\n",
      "165.639\n",
      "167.146\n",
      "157.907\n",
      "170.479\n",
      "162.604\n",
      "165.923\n",
      "167.545\n",
      "163.836\n",
      "165.202\n",
      "166.511\n",
      "165.858\n",
      "166.132\n",
      "165.289\n",
      "168.2\n",
      "164.848\n",
      "167.326\n",
      "156.802\n",
      "160.607\n",
      "164.939491272\n"
     ]
    }
   ],
   "source": [
    "%matplotlib inline\n",
    "fig = plt.figure()\n",
    "ax  = fig.add_subplot(1, 1, 1)\n",
    "\n",
    "ax.plot(LOSS_TRAIN)\n",
    "plt.ion()\n",
    "plt.show()\n",
    "\n",
    "for ep in range(len(LOSS_TRAIN)):\n",
    "    print LOSS_TRAIN[ep]\n",
    "\n",
    "ax.plot(LOSS_VALID[1:-1])\n",
    "plt.ion()\n",
    "plt.show()\n",
    "\n",
    "for ep in range(1, len(LOSS_VALID)):\n",
    "    print LOSS_VALID[ep]"
   ]
  },
  {
   "cell_type": "code",
   "execution_count": 6,
   "metadata": {
    "collapsed": false,
    "deletable": true,
    "editable": true
   },
   "outputs": [
    {
     "name": "stdout",
     "output_type": "stream",
     "text": [
      "Test Loss: 163.985374451\n"
     ]
    }
   ],
   "source": [
    "LOSS_TEST = []\n",
    "total_loss = 0\n",
    "pred_list = []\n",
    "# training\n",
    "for idx in xrange(3000/BATCH_SIZE):\n",
    "    sequence = test[0:10, idx*BATCH_SIZE:(idx+1)*BATCH_SIZE, :, :, :]\n",
    "    predict  = test[10:20, idx*BATCH_SIZE:(idx+1)*BATCH_SIZE, :, :, :]\n",
    "    feed_dict = {model.x: sequence.reshape((-1, 16, 16, 16)), model.y: predict.reshape((-1, 16, 16, 16)), model.feed_previous:False}\n",
    "    pred, loss = sess.run([model.pred, model.loss], feed_dict)\n",
    "    total_loss = total_loss + loss\n",
    "    pred = pred.reshape([10, BATCH_SIZE, 16, 16, 16])\n",
    "    pred_list.append(img_restore(pred, 10, BATCH_SIZE))\n",
    "LOSS_TEST.append(total_loss/(3000/BATCH_SIZE))\n",
    "\n",
    "# print current loss\n",
    "print \"Test Loss:\", LOSS_TEST[-1]"
   ]
  },
  {
   "cell_type": "code",
   "execution_count": 7,
   "metadata": {
    "collapsed": true,
    "deletable": true,
    "editable": true
   },
   "outputs": [],
   "source": [
    "total_pred = np.asarray(pred_list)\n",
    "total_pred = np.reshape(np.transpose(total_pred, (1, 0, 2, 3, 4)), (10, 3000, 64, 64))\n",
    "np.savez(\"./Predict/ConvNTM_mm.npz\", total_pred)"
   ]
  },
  {
   "cell_type": "code",
   "execution_count": 24,
   "metadata": {
    "collapsed": false,
    "deletable": true,
    "editable": true
   },
   "outputs": [
    {
     "data": {
      "text/plain": [
       "<matplotlib.image.AxesImage at 0x7f025d6a2fd0>"
      ]
     },
     "execution_count": 24,
     "metadata": {},
     "output_type": "execute_result"
    },
    {
     "data": {
      "image/png": "[encoded data removed]",
      "text/plain": [
       "<matplotlib.figure.Figure at 0x7f025d4dc150>"
      ]
     },
     "metadata": {},
     "output_type": "display_data"
    }
   ],
   "source": [
    "%matplotlib inline\n",
    "fig = plt.figure()\n",
    "ax  = fig.add_subplot(1, 1, 1)\n",
    "\n",
    "plt.ion()\n",
    "plt.imshow(total_pred[1, 200, :, :], cmap='Greys')"
   ]
  }
 ],
 "metadata": {
  "kernelspec": {
   "display_name": "Tensorflow",
   "language": "python",
   "name": "tensorflow"
  },
  "language_info": {
   "codemirror_mode": {
    "name": "ipython",
    "version": 2
   },
   "file_extension": ".py",
   "mimetype": "text/x-python",
   "name": "python",
   "nbconvert_exporter": "python",
   "pygments_lexer": "ipython2",
   "version": "2.7.12"
  }
 },
 "nbformat": 4,
 "nbformat_minor": 2
}
